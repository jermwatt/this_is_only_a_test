{
 "cells": [
  {
   "cell_type": "code",
   "execution_count": null,
   "metadata": {
    "collapsed": false
   },
   "outputs": [],
   "source": [
    "%matplotlib inline\n",
    "# import network warper demo\n",
    "import warp_demo_3 as warper\n",
    "\n",
    "# a necessary library for writing out our transform rules mathematically\n",
    "from sympy import symbols, lambdify, sin, cos, tanh, exp, log, Max, Piecewise, And\n",
    "from ipywidgets import interact\n",
    "import sys"
   ]
  },
  {
   "cell_type": "markdown",
   "metadata": {},
   "source": [
    "To transform this notebook into an interactive html page - with the animations imbedded - from the dir type\n",
    "\n",
    "jupyter nbconvert scratchpad.ipynb\n",
    "\n",
    "This is how scratchpad.html (also in this dir) was generated."
   ]
  },
  {
   "cell_type": "code",
   "execution_count": null,
   "metadata": {
    "collapsed": false
   },
   "outputs": [],
   "source": [
    "# our home-made warper \n",
    "demo = warper.warp_demo()\n",
    "\n",
    "# make instance of warper\n",
    "x1,x2 = symbols('x1 x2')\n",
    "\n",
    "# define your own rules here using elementary functions like sin, cos, tanh, sinc, or any polynomial combination of x1 and x2\n",
    "rule1 = x1*x1 - 4\n",
    "rule2 = x2*x2 - 4\n",
    "\n",
    "# these two lines feed the transformation rules into the warping function and produce a toy dataset based on them\n",
    "demo.define_rule(rule1,rule2)\n",
    "demo.make_pts()\n",
    "\n",
    "# this line creates an instance of the slider -  if you do not have bokeh installed you can use the demo1.transformation_slider - this uses matplotlib as the backend (and is considerably slower)\n",
    "demo.transformation_slider()"
   ]
  },
  {
   "cell_type": "code",
   "execution_count": null,
   "metadata": {
    "collapsed": false
   },
   "outputs": [],
   "source": [
    "# our home-made warper \n",
    "demo2 = warper.warp_demo()\n",
    "\n",
    "# make instance of warper\n",
    "x1,x2 = symbols('x1 x2')\n",
    "\n",
    "# define your own rules here using elementary functions like sin, cos, tanh, sinc, or any polynomial combination of x1 and x2\n",
    "rule1 = tanh(x1 + x2 + tanh(x1))\n",
    "rule2 = tanh(0.1*x1)\n",
    "\n",
    "# these two lines feed the transformation rules into the warping function and produce a toy dataset based on them\n",
    "demo2.define_rule(rule1,rule2)\n",
    "demo2.make_pts()\n",
    "\n",
    "# this line creates an instance of the slider -  if you do not have bokeh installed you can use the demo1.transformation_slider - this uses matplotlib as the backend (and is considerably slower)\n",
    "demo2.transformation_slider()"
   ]
  }
 ],
 "metadata": {
  "kernelspec": {
   "display_name": "Python 2",
   "language": "python",
   "name": "python2"
  },
  "language_info": {
   "codemirror_mode": {
    "name": "ipython",
    "version": 2
   },
   "file_extension": ".py",
   "mimetype": "text/x-python",
   "name": "python",
   "nbconvert_exporter": "python",
   "pygments_lexer": "ipython2",
   "version": "2.7.12"
  }
 },
 "nbformat": 4,
 "nbformat_minor": 1
}
